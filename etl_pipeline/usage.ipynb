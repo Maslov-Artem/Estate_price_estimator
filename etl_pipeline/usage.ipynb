{
 "cells": [
  {
   "cell_type": "code",
   "execution_count": 1,
   "id": "ae501d57-867c-438e-96f9-0d7b514a1595",
   "metadata": {},
   "outputs": [],
   "source": [
    "from PKL_TO_MODEL import To_Model_BIG\n",
    "path_or_DF = 'base_70000.pkl'\n",
    "tm = To_Model_BIG(path_or_DF,k=1.7, test_size=0.1)"
   ]
  },
  {
   "cell_type": "code",
   "execution_count": 2,
   "id": "bb2283d5-321f-40f2-a8bb-56f91cb82f28",
   "metadata": {},
   "outputs": [
    {
     "name": "stdout",
     "output_type": "stream",
     "text": [
      "Function fit(<PKL_TO_MODEL.To_Model_BIG object at 0x7e5c68613d60>,) {} Took 3.1652 seconds\n"
     ]
    }
   ],
   "source": [
    "tm.fit()"
   ]
  },
  {
   "cell_type": "code",
   "execution_count": 3,
   "id": "c97b9809-6e37-4569-a2f9-ce795f7aaca7",
   "metadata": {
    "scrolled": true
   },
   "outputs": [
    {
     "name": "stdout",
     "output_type": "stream",
     "text": [
      "NO LOG: RMSE:2426292.0, MAE:1478069.0, R2-score:0.9361\n",
      "Индекс покрытия: 0.93\n"
     ]
    }
   ],
   "source": [
    "tm.score()"
   ]
  },
  {
   "cell_type": "code",
   "execution_count": 4,
   "id": "cb27b335-a7a6-4616-81fd-2014fe2f1401",
   "metadata": {},
   "outputs": [
    {
     "name": "stdout",
     "output_type": "stream",
     "text": [
      "Предсказанные цены добавлены в файл. Файл сохраненен как cian_base.pkl\n"
     ]
    }
   ],
   "source": [
    "tm.save()"
   ]
  },
  {
   "cell_type": "markdown",
   "id": "f0252f28-2daa-4a56-a417-d6a0356eb292",
   "metadata": {},
   "source": [
    "### ЕСЛИ НАДО ШОБ ВСЕ В ОДНОМ"
   ]
  },
  {
   "cell_type": "code",
   "execution_count": 1,
   "id": "0fdea0e5-089a-4d3c-9b60-9a77c6e8ea15",
   "metadata": {},
   "outputs": [],
   "source": [
    "from CSV_to_PKL_stage_PIPELINE import Preprocessor\n",
    "\n",
    "from PKL_TO_MODEL import To_Model_BIG"
   ]
  },
  {
   "cell_type": "code",
   "execution_count": 2,
   "id": "c157df97-adeb-4a9b-bcba-355c95c6af81",
   "metadata": {},
   "outputs": [
    {
     "name": "stderr",
     "output_type": "stream",
     "text": [
      "100%|██████████| 9/9 [00:39<00:00,  4.44s/it]\n",
      "  0%|          | 0/31 [00:00<?, ?it/s]\n",
      "73110it [00:00, 460787.86it/s]"
     ]
    },
    {
     "name": "stdout",
     "output_type": "stream",
     "text": [
      "Function transform(<CSV_to_PKL_stage_PIPELINE.Preprocessor object at 0x74aaf4d99270>,) {} Took 123.3857 seconds\n"
     ]
    },
    {
     "name": "stderr",
     "output_type": "stream",
     "text": [
      "\n"
     ]
    }
   ],
   "source": [
    "p='real_estate_202404072207.csv'\n",
    "\n",
    "pr = Preprocessor(p)\n",
    "pr.transform()"
   ]
  },
  {
   "cell_type": "code",
   "execution_count": 3,
   "id": "69c03953-107c-46f8-91d3-2f1ff226420f",
   "metadata": {},
   "outputs": [],
   "source": [
    "MODEL = To_Model_BIG(path_or_DF=pr.to_pandas(),k=1.7, test_size=0.1)"
   ]
  },
  {
   "cell_type": "code",
   "execution_count": 4,
   "id": "73a2b585-08b4-4684-aaac-c99f61f5672d",
   "metadata": {},
   "outputs": [
    {
     "name": "stdout",
     "output_type": "stream",
     "text": [
      "Function fit(<PKL_TO_MODEL.To_Model_BIG object at 0x74ab4826fac0>,) {} Took 3.0107 seconds\n"
     ]
    }
   ],
   "source": [
    "MODEL.fit()"
   ]
  },
  {
   "cell_type": "code",
   "execution_count": 5,
   "id": "fc6cff6e-e7e5-4291-a901-6c09503f0abe",
   "metadata": {},
   "outputs": [
    {
     "name": "stdout",
     "output_type": "stream",
     "text": [
      "NO LOG: RMSE:2426292.0, MAE:1478069.0, R2-score:0.9361\n",
      "Индекс покрытия: 0.93\n"
     ]
    }
   ],
   "source": [
    "MODEL.score()"
   ]
  },
  {
   "cell_type": "code",
   "execution_count": 6,
   "id": "70ffe90b-24bc-4692-9081-9ff0916bfacb",
   "metadata": {},
   "outputs": [
    {
     "name": "stdout",
     "output_type": "stream",
     "text": [
      "Предсказанные цены добавлены в файл. Файл сохраненен как cian_base.pkl\n"
     ]
    }
   ],
   "source": [
    "MODEL.save()"
   ]
  }
 ],
 "metadata": {
  "kernelspec": {
   "display_name": "Python 3 (ipykernel)",
   "language": "python",
   "name": "python3"
  },
  "language_info": {
   "codemirror_mode": {
    "name": "ipython",
    "version": 3
   },
   "file_extension": ".py",
   "mimetype": "text/x-python",
   "name": "python",
   "nbconvert_exporter": "python",
   "pygments_lexer": "ipython3",
   "version": "3.10.8"
  }
 },
 "nbformat": 4,
 "nbformat_minor": 5
}
